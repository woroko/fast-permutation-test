{
 "cells": [
  {
   "cell_type": "code",
   "execution_count": 1,
   "metadata": {},
   "outputs": [],
   "source": [
    "import itertools\n",
    "import time\n",
    "import permutationtest\n",
    "import numpy as np\n",
    "from ipyparallel import Client\n",
    "from lexicographic_combinations import nth_combination, choose\n",
    "from functools import reduce\n",
    "import operator as op"
   ]
  },
  {
   "cell_type": "code",
   "execution_count": 11,
   "metadata": {},
   "outputs": [],
   "source": [
    "SUBJECTS_IN_SUBSET = 18 # 13 values in SUBSET, 26-13=13 values in SUBSET_REMAINDER\n",
    "SUBJECTS_IN_WHOLESET = 36\n",
    "GIVEN_MEAN = 10.0\n",
    "NUM_THREADS = 12\n",
    "\n",
    "PERFORM_MASK_VALIDATION = False"
   ]
  },
  {
   "cell_type": "code",
   "execution_count": 12,
   "metadata": {},
   "outputs": [],
   "source": [
    "if PERFORM_MASK_VALIDATION:\n",
    "    precalculated_gosper_boundaries_test = permutationtest.raw_gosper_bitmask(SUBJECTS_IN_WHOLESET, SUBJECTS_IN_SUBSET, NUM_THREADS)\n",
    "precalculated_gosper_boundaries = []\n",
    "nchoosek = int(choose(SUBJECTS_IN_WHOLESET, SUBJECTS_IN_SUBSET))\n",
    "nchoosek_interval = nchoosek // NUM_THREADS\n",
    "boundary = nchoosek-1 # indices from 0 to nchoosek-1, start from last index and loop down to match reverse lexicographical order in C implementation\n",
    "\n",
    "for i in range(0, NUM_THREADS):\n",
    "    if (boundary < 0):\n",
    "        break\n",
    "\n",
    "    combo = nth_combination(SUBJECTS_IN_WHOLESET, SUBJECTS_IN_SUBSET, boundary)  # boundary+5 returns list of element numbers (len=SUBJECTS_IN_SUBSET), possible element values from 0 to SUBJECTS_IN_WHOLESET-1\n",
    "    mask = 0\n",
    "    for item in combo:\n",
    "        mask = (1 << (SUBJECTS_IN_WHOLESET-1 - item)) | mask # reverse bitmask order to match C implementation of Gosper's hack (SUBJECTS_IN_WHOLESET-1 - item)\n",
    "    \n",
    "    precalculated_gosper_boundaries.append(mask)\n",
    "    boundary -= nchoosek_interval\n",
    "\n",
    "#precalculated_gosper_boundaries_test[0].reverse()"
   ]
  },
  {
   "cell_type": "code",
   "execution_count": 13,
   "metadata": {},
   "outputs": [
    {
     "name": "stdout",
     "output_type": "stream",
     "text": [
      "['111111111111111111', '110001011100110101110011110010100', '1011011010110000000011101110011110', '10000100111111101001001101101000011', '10101101100101100101000011111001100', '11010101100101110000010111101011000', '100000000000000000011111111111111111', '100101010011010001111101000010101011', '101010010011010011010111100000110101', '101111011000000010110110010011000111', '110100100101001111111100010001100010', '111001110100011001010001100001101101']\n",
      "Gosper boundaries from combinatorial number system: interval, total: 756261275, 9075135300\n",
      "Number of jobs: 12\n"
     ]
    }
   ],
   "source": [
    "print([\"{0:b}\".format(x) for x in precalculated_gosper_boundaries])\n",
    "print(\"Gosper boundaries from combinatorial number system: interval, total: \" + str(nchoosek_interval) + \", \" + str(nchoosek))\n",
    "\n",
    "if PERFORM_MASK_VALIDATION:\n",
    "    print(str([\"{0:b}\".format(x) for x in precalculated_gosper_boundaries_test[0]]))\n",
    "    print(\"Gosper boundaries from gosper for verification: interval, total: \" + str(precalculated_gosper_boundaries_test[1]) + \", \" + str(precalculated_gosper_boundaries_test[2]))\n",
    "\n",
    "print(\"Number of jobs: \" + str(len(precalculated_gosper_boundaries)))\n",
    "\n",
    "if PERFORM_MASK_VALIDATION:\n",
    "    everything_same = True\n",
    "    for i in range(0, len(precalculated_gosper_boundaries)):\n",
    "        if (precalculated_gosper_boundaries[i] != precalculated_gosper_boundaries_test[0][i]):\n",
    "            everything_same = False\n",
    "\n",
    "    print(\"\\nAll masks valid: \" + str(everything_same))\n",
    "\n",
    "    assert everything_same"
   ]
  },
  {
   "cell_type": "code",
   "execution_count": 14,
   "metadata": {},
   "outputs": [],
   "source": [
    "c = Client()\n",
    "v = c.load_balanced_view()"
   ]
  },
  {
   "cell_type": "code",
   "execution_count": 15,
   "metadata": {},
   "outputs": [
    {
     "name": "stdout",
     "output_type": "stream",
     "text": [
      "[0.0, 1.0, 2.0, 3.0, 4.0, 5.0, 6.0, 7.0, 8.0, 9.0, 10.0, 11.0, 12.0, 13.0, 14.0, 15.0, 16.0, 17.0, 18.0, 19.0, 20.0, 21.0, 22.0, 23.0, 24.0, 25.0, 26.0, 27.0, 28.0, 29.0, 30.0, 31.0, 32.0, 33.0, 34.0, 35.0]\n"
     ]
    }
   ],
   "source": [
    "a = [float(x) for x in range(0, SUBJECTS_IN_WHOLESET)]\n",
    "print(a)"
   ]
  },
  {
   "cell_type": "code",
   "execution_count": null,
   "metadata": {},
   "outputs": [],
   "source": [
    "def calculate_combinations():\n",
    "    i = 0\n",
    "    for x in itertools.combinations(a, 13):\n",
    "        i += 1\n",
    "\n",
    "    return i\n",
    "\n",
    "start_time = time.time()\n",
    "print(str(calculate_combinations()))\n",
    "\n",
    "print(str(time.time() - start_time))"
   ]
  },
  {
   "cell_type": "code",
   "execution_count": null,
   "metadata": {},
   "outputs": [],
   "source": [
    "def gen_masks(A_len,K):\n",
    "    masks = []\n",
    "    num_combinations = 0\n",
    "    N = A_len\n",
    "\n",
    "    # iterate over subsets of size K\n",
    "    mask = (1<<K)-1     # 2^K - 1 is always a number having exactly K 1 bits\n",
    "    while mask < (1<<N):\n",
    "        masks.append(mask)\n",
    " \n",
    "        # catch special case\n",
    "        if mask == 0:\n",
    "            break\n",
    " \n",
    "        # determine next mask with Gosper's hack\n",
    "        a = mask & -mask                # determine rightmost 1 bit\n",
    "        b = mask + a                    # determine carry bit\n",
    "        mask = int(((mask^b)>>2)/a) | b # produce block of ones that begins at the least-significant bit\n",
    "        \n",
    "        num_combinations += 1\n",
    "\n",
    "    return (num_combinations, masks)\n",
    "\n",
    "for i in range(25, 35)\n",
    "    "
   ]
  },
  {
   "cell_type": "code",
   "execution_count": 8,
   "metadata": {},
   "outputs": [],
   "source": [
    "def run_remote_permutationtest(args):\n",
    "    import permutationtest\n",
    "    result = permutationtest.permutation_test_parallel(args[0], args[1], args[2], args[3], args[4])\n",
    "    return result"
   ]
  },
  {
   "cell_type": "code",
   "execution_count": 16,
   "metadata": {},
   "outputs": [
    {
     "name": "stdout",
     "output_type": "stream",
     "text": [
      "(extreme_teststatistic_count, count_combinations_all): (33788526, 9075135300)\n",
      "p-value: 0.0037231980442208944\n",
      "time taken: 112.77 seconds.\n"
     ]
    }
   ],
   "source": [
    "# multithreaded version\n",
    "start_time = time.time()\n",
    "np_A = np.array(a, np.float64)\n",
    "extreme_teststatistic_count = 0\n",
    "count_combinations_all = 0\n",
    "\n",
    "list_of_permutationtest_inputs = []\n",
    "\n",
    "for i in range(0, len(precalculated_gosper_boundaries)): # iterate over predetermined bitmasks\n",
    "    mask_start = precalculated_gosper_boundaries[i]\n",
    "    if i + 1 < len(precalculated_gosper_boundaries):\n",
    "        mask_end = precalculated_gosper_boundaries[i+1]\n",
    "    else:\n",
    "        mask_end = 1<<len(np_A)\n",
    "    list_of_permutationtest_inputs.append((np_A, SUBJECTS_IN_SUBSET, GIVEN_MEAN, mask_start, mask_end))\n",
    "\n",
    "\n",
    "test_results = v.map(run_remote_permutationtest, list_of_permutationtest_inputs)\n",
    "\n",
    "for result in test_results:\n",
    "    extreme_teststatistic_count += result[0]\n",
    "    count_combinations_all += result[1]\n",
    "\n",
    "print(\"(extreme_teststatistic_count, count_combinations_all): (\" + str(extreme_teststatistic_count) + \", \"\n",
    "      + str(count_combinations_all) + \")\")\n",
    "print(\"p-value: \" + str(extreme_teststatistic_count / count_combinations_all))\n",
    "\n",
    "print(\"time taken: \" + str(\"%.2f\" % round(time.time() - start_time,2)) + \" seconds.\")"
   ]
  },
  {
   "cell_type": "code",
   "execution_count": 17,
   "metadata": {},
   "outputs": [
    {
     "name": "stdout",
     "output_type": "stream",
     "text": [
      "(33788526, 9075135300)\n",
      "0.0037231980442208944\n",
      "time taken: 710.05 seconds.\n"
     ]
    }
   ],
   "source": [
    "# single-threaded version\n",
    "start_time = time.time()\n",
    "np_A_singlethreaded = np.array(a, np.float64)\n",
    "singlethreaded_result = permutationtest.permutation_test(np_A_singlethreaded, SUBJECTS_IN_SUBSET, GIVEN_MEAN)\n",
    "print(singlethreaded_result)\n",
    "print(singlethreaded_result[0] / singlethreaded_result[1])\n",
    "print(\"time taken: \" + str(\"%.2f\" % round(time.time() - start_time,2)) + \" seconds.\")"
   ]
  },
  {
   "cell_type": "code",
   "execution_count": null,
   "metadata": {},
   "outputs": [],
   "source": []
  }
 ],
 "metadata": {
  "kernelspec": {
   "display_name": "Python 3",
   "language": "python",
   "name": "python3"
  },
  "language_info": {
   "codemirror_mode": {
    "name": "ipython",
    "version": 3
   },
   "file_extension": ".py",
   "mimetype": "text/x-python",
   "name": "python",
   "nbconvert_exporter": "python",
   "pygments_lexer": "ipython3",
   "version": "3.7.3"
  }
 },
 "nbformat": 4,
 "nbformat_minor": 2
}
